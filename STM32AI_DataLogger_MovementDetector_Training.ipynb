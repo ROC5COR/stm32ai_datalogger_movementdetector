{
  "nbformat": 4,
  "nbformat_minor": 0,
  "metadata": {
    "colab": {
      "name": "STM32AI_DataLogger_MovementDetector_Training.ipynb",
      "provenance": [],
      "authorship_tag": "ABX9TyMkS8mQekb9MxADGyqKaLZI",
      "include_colab_link": true
    },
    "kernelspec": {
      "name": "python3",
      "display_name": "Python 3"
    },
    "language_info": {
      "name": "python"
    }
  },
  "cells": [
    {
      "cell_type": "markdown",
      "metadata": {
        "id": "view-in-github",
        "colab_type": "text"
      },
      "source": [
        "<a href=\"https://colab.research.google.com/github/ROC5COR/stm32ai_datalogger_movementdetector/blob/main/STM32AI_DataLogger_MovementDetector_Training.ipynb\" target=\"_parent\"><img src=\"https://colab.research.google.com/assets/colab-badge.svg\" alt=\"Open In Colab\"/></a>"
      ]
    },
    {
      "cell_type": "code",
      "metadata": {
        "id": "QR4YHZYyDE4O"
      },
      "source": [
        "import pandas as pd\n",
        "import numpy as np\n",
        "import matplotlib.pyplot as plt"
      ],
      "execution_count": 3,
      "outputs": []
    },
    {
      "cell_type": "markdown",
      "metadata": {
        "id": "qq5ALOmjLsnj"
      },
      "source": [
        "#Getting the data\n",
        "We are getting the dataset directly from the GitHub, but you can use your own dataset instead.\n",
        "\n",
        "The dataset has been generated using **GenericUI** application located here: https://github.com/STMicroelectronics/stm32ai-datalogger/tree/main/generic_ui"
      ]
    },
    {
      "cell_type": "code",
      "metadata": {
        "colab": {
          "base_uri": "https://localhost:8080/"
        },
        "id": "QOui77nmDhhj",
        "outputId": "0377473a-f750-45b1-f3f7-91d602404c50"
      },
      "source": [
        "df = pd.read_csv('https://raw.githubusercontent.com/ROC5COR/stm32ai_datalogger_movementdetector/main/Capture-2020-09-01-10h07m03s.csv')\n",
        "print(\"Data in file: {}\".format(len(df)))"
      ],
      "execution_count": 7,
      "outputs": [
        {
          "output_type": "stream",
          "text": [
            "Data in file: 13175\n"
          ],
          "name": "stdout"
        }
      ]
    },
    {
      "cell_type": "markdown",
      "metadata": {
        "id": "5OlixSC0M9wr"
      },
      "source": [
        "# Preprocessing data\n",
        "Here we are doing multiple steps:\n",
        "- Data extraction\n",
        "- Doing windowing of data + overlaping\n",
        "- Scaling of data\n",
        "- Shuffling data\n"
      ]
    },
    {
      "cell_type": "code",
      "metadata": {
        "colab": {
          "base_uri": "https://localhost:8080/"
        },
        "id": "eVQnlYZZH-u9",
        "outputId": "aedae612-baf1-4a7f-a474-76519ab6095a"
      },
      "source": [
        "# Extracting data from main dataset to different categories\n",
        "leftright_df = df[df['label'] == 'leftright']\n",
        "print(\"LeftRight data: {}\".format(len(leftright_df)))\n",
        "\n",
        "updown_df = df[df['label'] == 'updown']\n",
        "print(\"UpDown data: {}\".format(len(updown_df)))\n",
        "\n",
        "idle_df = df[df['label'] == 'idle']\n",
        "print(\"Idle data: {}\".format(len(idle_df)))\n",
        "\n",
        "# We can also trim data at the beginning and at the end to avoid transition between states\n",
        "# Be sure also to have classes that are correctly weighted between each other"
      ],
      "execution_count": 15,
      "outputs": [
        {
          "output_type": "stream",
          "text": [
            "LeftRight data: 4100\n",
            "UpDown data: 4114\n",
            "Idle data: 4961\n"
          ],
          "name": "stdout"
        }
      ]
    },
    {
      "cell_type": "code",
      "metadata": {
        "id": "IywAZdEmQ1R9"
      },
      "source": [
        "# We want window of 100 data, this is what we are going to send to the neural network later\n",
        "# We also want to do some overlapping of 1, which means that 1 new data will be added\n",
        "# between two windows\n",
        "window = 100\n",
        "overlap_step = 1\n",
        "\n",
        "# Because this is a simple dataset we are manually one-hotting our output data\n",
        "y_encoding = {\n",
        "    'leftright':[0,0,1],\n",
        "    'updown':   [0,1,0],\n",
        "    'idle':  [1,0,0]\n",
        "}\n",
        "\n",
        "X_dataset = []\n",
        "Y_dataset = []\n",
        "\n",
        "print(\"Windowing and overlaping...\")\n",
        "for i in np.arange(0, len(leftright_df) - window, overlap_step):\n",
        "    data = leftright_df[['data1','data2','data3']][i:i+window]\n",
        "    data = data.to_numpy()\n",
        "    X_dataset.append(data)\n",
        "    Y_dataset.append(y_encoding['leftright'])\n",
        "\n",
        "for i in np.arange(0, len(updown_df) - window, overlap_step):\n",
        "    data = updown_df[['data1','data2','data3']][i:i+window]\n",
        "    data = data.to_numpy()\n",
        "    X_dataset.append(data)\n",
        "    Y_dataset.append(y_encoding['updown'])\n",
        "\n",
        "for i in np.arange(0, len(idle_df) - window, overlap_step):\n",
        "    data = idle_df[['data1','data2','data3']][i:i+window]\n",
        "    data = data.to_numpy()\n",
        "    X_dataset.append(data)\n",
        "    Y_dataset.append(y_encoding['idle'])\n",
        "\n",
        "# Numpyzing data because it is simpler\n",
        "X_dataset = np.array(X_dataset)\n",
        "Y_dataset = np.array(Y_dataset)\n",
        "\n",
        "# Scaling data here, we simply divide by the max value that we have in our dataset\n",
        "# this will give us values between -1 and 1\n",
        "X_dataset /= 2000\n",
        "\n",
        "print(\"X_dataset: {}, Y_dataset: {}\".format(X_dataset.shape, Y_dataset.shape))\n",
        "\n",
        "print(\"Shuffling datasets...\")\n",
        "shuffled_indices = np.arange(X_dataset.shape[0])\n",
        "np.random.shuffle(shuffled_indices)\n",
        "X_dataset = X_dataset[shuffled_indices]\n",
        "Y_dataset = Y_dataset[shuffled_indices]\n",
        "\n",
        "print(\"Done !\")"
      ],
      "execution_count": null,
      "outputs": []
    },
    {
      "cell_type": "markdown",
      "metadata": {
        "id": "_TB7yy7eP219"
      },
      "source": [
        "# Designing an training neural network\n",
        "- We split the dataset into sub dataset: one for training, one for validating (during training) and one for testing (at the end)\n",
        "- We are using keras to build and training our neural network\n"
      ]
    },
    {
      "cell_type": "code",
      "metadata": {
        "colab": {
          "base_uri": "https://localhost:8080/"
        },
        "id": "ZNlkdtb6PlRm",
        "outputId": "96df8e41-4ed2-430e-e82b-b914e3a70e5e"
      },
      "source": [
        "train_valid_ratio = 0.75\n",
        "valid_test_ratio = 0.85\n",
        "X_train = X_dataset[:int(len(X_dataset)*train_valid_ratio)]\n",
        "Y_train = Y_dataset[:int(len(Y_dataset)*train_valid_ratio)]\n",
        "X_valid = X_dataset[int(len(X_dataset)*train_valid_ratio): int(len(X_dataset)*valid_test_ratio)]\n",
        "Y_valid = Y_dataset[int(len(Y_dataset)*train_valid_ratio): int(len(Y_dataset)*valid_test_ratio)]\n",
        "X_test = X_dataset[int(len(X_dataset)*valid_test_ratio):]\n",
        "Y_test = Y_dataset[int(len(Y_dataset)*valid_test_ratio):]\n",
        "\n",
        "print(\"X_train: {}, Y_train: {}, X_valid: {}, Y_valid: {}, X_test: {}, Y_test: {}\"\n",
        "\t.format(X_train.shape, Y_train.shape, X_valid.shape, Y_valid.shape, X_test.shape, Y_test.shape))\n"
      ],
      "execution_count": 10,
      "outputs": [
        {
          "output_type": "stream",
          "text": [
            "X_train: (9656, 100, 3), Y_train: (9656, 3), X_valid: (1287, 100, 3), Y_valid: (1287, 3), X_test: (1932, 100, 3), Y_test: (1932, 3)\n"
          ],
          "name": "stdout"
        }
      ]
    },
    {
      "cell_type": "code",
      "metadata": {
        "colab": {
          "base_uri": "https://localhost:8080/"
        },
        "id": "BDuaub-VQrTm",
        "outputId": "83f7e0f2-3a2a-4f2f-b476-adb5db6c29c2"
      },
      "source": [
        "print(\"Creating Conv1D model...\")\n",
        "from tensorflow import keras as k\n",
        "model = k.Sequential([\n",
        "    k.layers.Conv1D(filters=16, kernel_size=3, activation='relu', input_shape=(window, 3)), # 3: Xacc,Yacc,Zacc\n",
        "    k.layers.Conv1D(filters=8, kernel_size=3, activation='relu'),\n",
        "    k.layers.Dropout(0.5),\n",
        "    # k.layers.MaxPooling1D(pool_size=2),\n",
        "    k.layers.Flatten(),\n",
        "    k.layers.Dense(50, activation='relu'),\n",
        "    k.layers.Dense(3, activation='softmax')\n",
        "])\n",
        "\n",
        "\n",
        "model.compile(loss='categorical_crossentropy', optimizer='adam', metrics=['accuracy'])\n",
        "history = model.fit(X_train, Y_train, validation_data=(X_valid, Y_valid), epochs=10, shuffle=True)\n",
        "model.save('leftright_updown_convolutionnal.h5')"
      ],
      "execution_count": 17,
      "outputs": [
        {
          "output_type": "stream",
          "text": [
            "Creating Conv1D model...\n",
            "Epoch 1/10\n",
            "302/302 [==============================] - 2s 6ms/step - loss: 0.1646 - accuracy: 0.9351 - val_loss: 0.0104 - val_accuracy: 0.9977\n",
            "Epoch 2/10\n",
            "302/302 [==============================] - 2s 6ms/step - loss: 0.0087 - accuracy: 0.9987 - val_loss: 0.0074 - val_accuracy: 0.9992\n",
            "Epoch 3/10\n",
            "302/302 [==============================] - 2s 5ms/step - loss: 0.0054 - accuracy: 0.9992 - val_loss: 0.0044 - val_accuracy: 0.9992\n",
            "Epoch 4/10\n",
            "302/302 [==============================] - 2s 5ms/step - loss: 0.0041 - accuracy: 0.9991 - val_loss: 0.0034 - val_accuracy: 0.9992\n",
            "Epoch 5/10\n",
            "302/302 [==============================] - 2s 5ms/step - loss: 0.0029 - accuracy: 0.9995 - val_loss: 0.0025 - val_accuracy: 0.9992\n",
            "Epoch 6/10\n",
            "302/302 [==============================] - 2s 6ms/step - loss: 0.0019 - accuracy: 0.9994 - val_loss: 0.0019 - val_accuracy: 0.9992\n",
            "Epoch 7/10\n",
            "302/302 [==============================] - 2s 5ms/step - loss: 0.0017 - accuracy: 0.9996 - val_loss: 0.0024 - val_accuracy: 0.9992\n",
            "Epoch 8/10\n",
            "302/302 [==============================] - 2s 5ms/step - loss: 0.0012 - accuracy: 0.9996 - val_loss: 0.0013 - val_accuracy: 0.9992\n",
            "Epoch 9/10\n",
            "302/302 [==============================] - 2s 6ms/step - loss: 0.0010 - accuracy: 0.9997 - val_loss: 4.0886e-04 - val_accuracy: 1.0000\n",
            "Epoch 10/10\n",
            "302/302 [==============================] - 2s 5ms/step - loss: 0.0064 - accuracy: 0.9978 - val_loss: 0.0035 - val_accuracy: 0.9992\n"
          ],
          "name": "stdout"
        }
      ]
    },
    {
      "cell_type": "code",
      "metadata": {
        "colab": {
          "base_uri": "https://localhost:8080/",
          "height": 282
        },
        "id": "agKD4eD7SiRG",
        "outputId": "537d01b7-ce5d-4d73-8996-1e08d47963a1"
      },
      "source": [
        "accuracy_plt = plt.plot(history.history['accuracy'], label='accuracy')\n",
        "loss_plt = plt.plot(history.history['loss'], label='loss')\n",
        "plt.legend()\n",
        "\n",
        "# Evaluating on test data to check final accuracy\n",
        "evaluation = model.evaluate(X_test, Y_test, verbose=0)\n",
        "print(\"Model evaluation: {}\".format(evaluation))"
      ],
      "execution_count": 22,
      "outputs": [
        {
          "output_type": "stream",
          "text": [
            "Model evaluation: [0.0027099926955997944, 0.998964786529541]\n"
          ],
          "name": "stdout"
        },
        {
          "output_type": "display_data",
          "data": {
            "image/png": "[encoded data removed]",
            "text/plain": [
              "<Figure size 432x288 with 1 Axes>"
            ]
          },
          "metadata": {
            "tags": [],
            "needs_background": "light"
          }
        }
      ]
    },
    {
      "cell_type": "code",
      "metadata": {
        "id": "722jnB_HS2aY"
      },
      "source": [
        ""
      ],
      "execution_count": null,
      "outputs": []
    }
  ]
}